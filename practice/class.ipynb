{
 "cells": [
  {
   "cell_type": "code",
   "execution_count": 7,
   "id": "665b89fa-368a-4338-95f7-a530cf133cd0",
   "metadata": {},
   "outputs": [
    {
     "name": "stdin",
     "output_type": "stream",
     "text": [
      " Lim 1234-5678 Seoul\n"
     ]
    },
    {
     "name": "stdout",
     "output_type": "stream",
     "text": [
      "name : Lim\n",
      "tel : 1234-5678\n",
      "addr : Seoul\n"
     ]
    }
   ],
   "source": [
    "# 형성평가1: 이름과 전화번호, 주소를 멤버로 하는 클래스를 정의하여 1개의 자료를 입력받고 아래 출력 예와 같은 형식으로 출력하는 프로그램을 작성하시오.(각각의 길이는 100자 이하이다.)\n",
    "\n",
    "class Person: \n",
    "    def __init__(self, name, tel, addr):\n",
    "        self.name = name\n",
    "        self.tel = tel\n",
    "        self.addr = addr\n",
    "        \n",
    "    def show(self):\n",
    "        print(f\"name : {self.name}\\ntel : {self.tel}\\naddr : {self.addr}\")\n",
    "\n",
    "name, tel, address = input().split(' ')\n",
    "p = Person(name, tel, address)       \n",
    "p.show()"
   ]
  },
  {
   "cell_type": "code",
   "execution_count": 11,
   "id": "ce19aa20-80b7-4fa9-9d0d-0b3a5565d8a6",
   "metadata": {},
   "outputs": [
    {
     "name": "stdin",
     "output_type": "stream",
     "text": [
      " Lim 1234-5678 Seoul\n",
      " Hong 2345-6789 Gangwon\n",
      " Sung 3456-7890 Gyeonggi\n"
     ]
    },
    {
     "name": "stdout",
     "output_type": "stream",
     "text": [
      "name : Hong\n",
      "tel : 2345-6789\n",
      "addr : Gangwon\n"
     ]
    }
   ],
   "source": [
    "# 형성평가2: 위 1번과 같은 자료를 리스트로 생성하여 3명의 자료를 입력받은 후 사전순으로 이름이 가장 빠른 사람의 자료를 출력 예와 같이 출력하는 프로그램을 작성\n",
    "# 런타임 에러\n",
    "\n",
    "class Person: \n",
    "    def __init__(self, name, tel, addr):\n",
    "        self.name = name\n",
    "        self.tel = tel\n",
    "        self.addr = addr\n",
    "        \n",
    "    def show(self):\n",
    "        print(f\"name : {self.name}\\ntel : {self.tel}\\naddr : {self.addr}\")\n",
    "\n",
    "name, tel, address = input().split(' ')\n",
    "p = Person(name, tel, address)\n",
    "\n",
    "for i in range(2):\n",
    "    name, tel, address = input().split(' ')\n",
    "    if p.name > name:\n",
    "        p = Person(name, tel, address)\n",
    "        \n",
    "p.show()"
   ]
  },
  {
   "cell_type": "code",
   "execution_count": 13,
   "id": "89d520c0-13b8-4457-be91-9a458168890d",
   "metadata": {},
   "outputs": [
    {
     "name": "stdin",
     "output_type": "stream",
     "text": [
      " 1 1 6 5\n",
      " 2 0 7 3\n"
     ]
    },
    {
     "name": "stdout",
     "output_type": "stream",
     "text": [
      "1 0 7 5\n"
     ]
    }
   ],
   "source": [
    "# 형성평가3: 왼쪽 아래의 좌표 (x1, y1)와 오른쪽 위의 좌표 (x2, y2)를 저장할 수 있는 클래스를 만들고\n",
    "# 두 개의 직사각형 자료를 입력받아 두 직사각형을 포함하는 최소의 직사각형 자료를 구하여 멤버\n",
    "# 변수에 저장하고 출력하는 프로그램을 작성하시오.\n",
    "\n",
    "class Coord:\n",
    "    def __init__(self, c):\n",
    "        self.x1 = c[0]\n",
    "        self.y1 = c[1]\n",
    "        self.x2 = c[2]\n",
    "        self.y2 = c[3]\n",
    "\n",
    "c1 = Coord(list(map(int, input().split())))\n",
    "c2 = Coord(list(map(int, input().split())))\n",
    "\n",
    "print(min(c1.x1, c2.x1), min(c1.y1, c2.y1), max(c1.x2, c2.x2), max(c1.y2, c2.y2))"
   ]
  },
  {
   "cell_type": "code",
   "execution_count": 17,
   "id": "87d01116-51ca-4c52-8771-a3b46c4b298f",
   "metadata": {},
   "outputs": [
    {
     "name": "stdin",
     "output_type": "stream",
     "text": [
      " 175 68.8\n",
      " 166 56.4\n"
     ]
    },
    {
     "name": "stdout",
     "output_type": "stream",
     "text": [
      "height : 175cm\n",
      "weight : 58.1kg\n"
     ]
    }
   ],
   "source": [
    "# 형성평가4: 어떤 학생의 키는 아버지와 어머니의 키의 평균보다 5cm 크고 몸무게는 아버지와 어머니의 몸무게의\n",
    "# 평균보다 4.5kg 가볍다고 한다. 키와 몸무게를 멤버변수로 갖는 클래스를 생성하고 아버지와 어머니\n",
    "# 의 키와 몸무게를 입력받아 학생의 키와 몸무게를 출력하는 프로그램을 작성하시오.\n",
    "\n",
    "class Person:\n",
    "    def __init__(self, info):\n",
    "        self.h = info[0]\n",
    "        self.w = info[1]\n",
    "        \n",
    "f = Person(list(map(float, input().split(' '))))\n",
    "m = Person(list(map(float, input().split(' '))))\n",
    "\n",
    "print('height : %dcm\\nweight : %.1fkg' % (((f.h+m.h)/2+5), ((f.w+m.w)/2-4.5)))"
   ]
  },
  {
   "cell_type": "code",
   "execution_count": 33,
   "id": "817b22f5-aca1-4405-92a3-8cc091062eb8",
   "metadata": {},
   "outputs": [
    {
     "name": "stdin",
     "output_type": "stream",
     "text": [
      " 3\n",
      " Chung 50 65 89\n",
      " Nolbu 100 38 99\n",
      " Hungbu 85 95 77\n"
     ]
    },
    {
     "name": "stdout",
     "output_type": "stream",
     "text": [
      "Hungbu 85 95 77 257\n",
      "Nolbu 100 38 99 237\n",
      "Chung 50 65 89 204\n"
     ]
    }
   ],
   "source": [
    "# 형성평가5: 정수 n을 입력받은 후 n명의 이름(20자 이하)과 세 과목의 점수를 입력받아 총점이 높은 순으로\n",
    "# 정렬하여 출력하는 프로그램을 작성하시오.\n",
    "\n",
    "class Score:\n",
    "    def __init__(self, name, scores):\n",
    "        self.name = name\n",
    "        self.score1 = int(scores[0])\n",
    "        self.score2 = int(scores[1])\n",
    "        self.score3 = int(scores[2])\n",
    "        self.total = self.score1+self.score2+self.score3\n",
    "        \n",
    "n = int(input())\n",
    "\n",
    "result = []\n",
    "\n",
    "for i in range(n):\n",
    "    name, *scores = input().split(' ')\n",
    "    result.append(Score(name, scores))\n",
    "\n",
    "for info in sorted(result, key=lambda x: x.total, reverse=True):\n",
    "    print(info.name, info.score1, info.score2, info.score3, info.total)"
   ]
  }
 ],
 "metadata": {
  "kernelspec": {
   "display_name": "Python 3 (ipykernel)",
   "language": "python",
   "name": "python3"
  },
  "language_info": {
   "codemirror_mode": {
    "name": "ipython",
    "version": 3
   },
   "file_extension": ".py",
   "mimetype": "text/x-python",
   "name": "python",
   "nbconvert_exporter": "python",
   "pygments_lexer": "ipython3",
   "version": "3.9.13"
  }
 },
 "nbformat": 4,
 "nbformat_minor": 5
}
