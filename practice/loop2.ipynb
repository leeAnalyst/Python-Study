{
 "cells": [
  {
   "cell_type": "code",
   "execution_count": 3,
   "id": "e2ce386b-1a93-4dee-9aa8-389e7ed39375",
   "metadata": {},
   "outputs": [
    {
     "name": "stdin",
     "output_type": "stream",
     "text": [
      " 99 65 30\n"
     ]
    },
    {
     "name": "stdout",
     "output_type": "stream",
     "text": [
      "64.67\n"
     ]
    }
   ],
   "source": [
    "# 형성평가4: 한 줄에 몇 개의 정수를 입력받아 평균을 출력하는 프로그램을 작성\n",
    "\n",
    "values = list(map(int, input().split(' ')))\n",
    "\n",
    "print(\"%.2f\" % (sum(values)/len(values)))"
   ]
  },
  {
   "cell_type": "code",
   "execution_count": 8,
   "id": "85e2e842-0646-478d-b37c-51397e6ee292",
   "metadata": {},
   "outputs": [
    {
     "name": "stdin",
     "output_type": "stream",
     "text": [
      " 10 20 30 55 66 77 88 99 100 15\n"
     ]
    },
    {
     "name": "stdout",
     "output_type": "stream",
     "text": [
      "even: 6 \n",
      "odd: 4\n"
     ]
    }
   ],
   "source": [
    "# 형성평가5: 10개의 정수를 입력받아 입력받은 수들 중 짝수의 개수와 홀수의 개수를 각각 구하여 출력하는 프로그램을 작성\n",
    "\n",
    "values = list(map(int, input().split(' ')))\n",
    "\n",
    "even = [i for i in values if i % 2 == 0]\n",
    "\n",
    "print('even: {} \\nodd: {}'.format(len(even), len(values)-len(even)))"
   ]
  },
  {
   "cell_type": "code",
   "execution_count": 12,
   "id": "e6bfc5e8-2338-4298-9129-6839319a6f18",
   "metadata": {},
   "outputs": [
    {
     "name": "stdin",
     "output_type": "stream",
     "text": [
      " 10 15\n"
     ]
    },
    {
     "name": "stdout",
     "output_type": "stream",
     "text": [
      "sum: 37 \n",
      "avg: 12.3\n"
     ]
    }
   ],
   "source": [
    "# 형성평가6: 두 개의 정수를 입력받아 작은 수부터 큰 수까지 3의 배수이거나 5의 배수인 수들의 합과 평균을 출력하는 프로그램을 작성\n",
    "\n",
    "x, y = list(map(int, input().split(' ')))\n",
    "              \n",
    "values = [i for i in range(x, y+1) if i%3 == 0 or i%5 == 0]\n",
    "\n",
    "print(\"sum: %d \\navg: %.1f\" % (sum(values), sum(values)/len(values)))"
   ]
  },
  {
   "cell_type": "code",
   "execution_count": 18,
   "id": "04fc9a6c-1e01-47cc-8f8d-2add9e360559",
   "metadata": {},
   "outputs": [
    {
     "name": "stdin",
     "output_type": "stream",
     "text": [
      " 5\n"
     ]
    },
    {
     "name": "stdout",
     "output_type": "stream",
     "text": [
      "5 10 15 20 25 30 35 40 45 50 "
     ]
    }
   ],
   "source": [
    "# 형성평가7: 한 개의 자연수를 입력받아 그 수의 배수를 차례로 10개 출력하는 프로그램\n",
    "\n",
    "n = int(input())\n",
    "\n",
    "print(*[i for i in range(n, n*10+1, n)], end = \" \")"
   ]
  },
  {
   "cell_type": "code",
   "execution_count": 20,
   "id": "e9139e5e-4af1-453c-9851-63795052067f",
   "metadata": {},
   "outputs": [
    {
     "name": "stdin",
     "output_type": "stream",
     "text": [
      " 3 4\n"
     ]
    },
    {
     "name": "stdout",
     "output_type": "stream",
     "text": [
      "1 2 3 4 \n",
      "2 4 6 8 \n",
      "3 6 9 12 \n"
     ]
    }
   ],
   "source": [
    "# 형성평가8: 행과 열의 수를 입력받아 다음과 같이 출력하는 프로그램을 작성\n",
    "\n",
    "n, m = list(map(int, input().split(' ')))\n",
    "\n",
    "for i in range(1, n+1):\n",
    "    for j in range(1, m+1):\n",
    "        print(i*j, end = \" \")\n",
    "    print()\n",
    "        "
   ]
  },
  {
   "cell_type": "code",
   "execution_count": 26,
   "id": "aa54ebeb-9beb-45df-87df-dff0bef3f55e",
   "metadata": {},
   "outputs": [
    {
     "name": "stdin",
     "output_type": "stream",
     "text": [
      " 4\n"
     ]
    },
    {
     "name": "stdout",
     "output_type": "stream",
     "text": [
      "(1, 1) (1, 2) (1, 3) (1, 4) \n",
      "(2, 1) (2, 2) (2, 3) (2, 4) \n",
      "(3, 1) (3, 2) (3, 3) (3, 4) \n",
      "(4, 1) (4, 2) (4, 3) (4, 4) \n"
     ]
    }
   ],
   "source": [
    "# 형성평가9: 정수를 입력받아 다음과 같이 순서쌍을 출력하는 프로그램을 작성\n",
    "\n",
    "n = int(input())\n",
    "\n",
    "for i in range(1, n+1):\n",
    "    for j in range(1, n+1):\n",
    "        print(f'({i}, {j})', end=\" \")\n",
    "    print()"
   ]
  },
  {
   "cell_type": "code",
   "execution_count": 49,
   "id": "339963a2-9b43-481f-9f2a-bc5705cd6648",
   "metadata": {},
   "outputs": [
    {
     "name": "stdin",
     "output_type": "stream",
     "text": [
      " 5 3\n"
     ]
    },
    {
     "name": "stdout",
     "output_type": "stream",
     "text": [
      "5 * 1 = 5   4 * 1 = 4   3 * 1 = 3   \n",
      "5 * 2 = 10   4 * 2 = 8   3 * 2 = 6   \n",
      "5 * 3 = 15   4 * 3 = 12   3 * 3 = 9   \n",
      "5 * 4 = 20   4 * 4 = 16   3 * 4 = 12   \n",
      "5 * 5 = 25   4 * 5 = 20   3 * 5 = 15   \n",
      "5 * 6 = 30   4 * 6 = 24   3 * 6 = 18   \n",
      "5 * 7 = 35   4 * 7 = 28   3 * 7 = 21   \n",
      "5 * 8 = 40   4 * 8 = 32   3 * 8 = 24   \n",
      "5 * 9 = 45   4 * 9 = 36   3 * 9 = 27   \n"
     ]
    }
   ],
   "source": [
    "# 형성평가10: 2부터 9까지의 정수 a와 b를 입력받아 a단부터 b단까지의 구구단을 차례대로 출력하는 프로그램을 작성\n",
    "\n",
    "a, b = list(map(int, input().split(' ')))\n",
    "\n",
    "for i in range(1, 10):\n",
    "    for j in range(a, b-1 if a>b else b+1, -1 if a>b else 1):\n",
    "        print(f'{j} * {i} = {i*j}', end = \"   \")\n",
    "    print()    \n",
    "        "
   ]
  }
 ],
 "metadata": {
  "kernelspec": {
   "display_name": "Python 3 (ipykernel)",
   "language": "python",
   "name": "python3"
  },
  "language_info": {
   "codemirror_mode": {
    "name": "ipython",
    "version": 3
   },
   "file_extension": ".py",
   "mimetype": "text/x-python",
   "name": "python",
   "nbconvert_exporter": "python",
   "pygments_lexer": "ipython3",
   "version": "3.9.13"
  }
 },
 "nbformat": 4,
 "nbformat_minor": 5
}
