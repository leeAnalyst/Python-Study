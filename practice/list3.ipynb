{
 "cells": [
  {
   "cell_type": "code",
   "execution_count": 44,
   "id": "37879dd2-c913-4199-85b4-2b090b77973b",
   "metadata": {},
   "outputs": [
    {
     "name": "stdin",
     "output_type": "stream",
     "text": [
      " 5\n"
     ]
    },
    {
     "name": "stdout",
     "output_type": "stream",
     "text": [
      "['No. 1', 'No. 2', 'No. 3', 'No. 4', 'No. 5']\n"
     ]
    }
   ],
   "source": [
    "# 형성평가1: 리스트 내포를 이용하여 1번부터 입력받은 숫자까지의 숫자에 \"No.\"를 붙인 문자열을 원소로 하는 리스트를 만들어 출력\n",
    "\n",
    "n = int(input())\n",
    "print([f'No. {i+1}' for i in range(n)])"
   ]
  },
  {
   "cell_type": "code",
   "execution_count": 12,
   "id": "71db6249-24a9-4366-949c-271fcb7d8594",
   "metadata": {
    "tags": []
   },
   "outputs": [
    {
     "name": "stdin",
     "output_type": "stream",
     "text": [
      " 11 3\n"
     ]
    },
    {
     "name": "stdout",
     "output_type": "stream",
     "text": [
      "[True, False, False, True, False, False, True, False, False, True, False]\n"
     ]
    }
   ],
   "source": [
    "# 형성평가2: 리스트의 크기와 정수를 입력 받아 다음 규칙을 만족하는 리스트를 리스트 내포를 이용하여 만들어 출력\n",
    "# 규칙: 인덱스가 입력받은 정수의 배수이면 True, 아니면 False\n",
    "\n",
    "l, n = list(map(int, input().split(' ')))\n",
    "\n",
    "print([True if i%n == 0 else False for i in range(l) ])            "
   ]
  },
  {
   "cell_type": "code",
   "execution_count": 6,
   "id": "4bdb4c98-dfa6-402e-bc8c-21a2fff6dadb",
   "metadata": {},
   "outputs": [
    {
     "name": "stdin",
     "output_type": "stream",
     "text": [
      " 5 6 3 4 5 5 2 2 4 6\n"
     ]
    },
    {
     "name": "stdout",
     "output_type": "stream",
     "text": [
      "1:0\n",
      "2:2\n",
      "3:1\n",
      "4:2\n",
      "5:3\n",
      "6:2\n"
     ]
    }
   ],
   "source": [
    "# 형성평가3: 가람이는 주사위 놀이를 하다가 주사위를 10번 던져서 각 숫자가 몇 번씩 나왔는지 알아보려고 한다.\n",
    "# 한번 던질 때마다 나온 주사위의 숫자를 입력받아서 숫자가 몇 번씩 나왔는지 출력\n",
    "\n",
    "values = list(map(int, input().split(' ')))\n",
    "dic = {1:0, 2:0, 3:0, 4:0, 5:0, 6:0}\n",
    "\n",
    "for v in values:\n",
    "    dic[v] += 1\n",
    "\n",
    "for k, v in dic.items():\n",
    "    print('{}:{}'.format(k, v))"
   ]
  },
  {
   "cell_type": "code",
   "execution_count": 16,
   "id": "74aef2b3-c590-4804-8a78-1ff99a82101f",
   "metadata": {},
   "outputs": [
    {
     "name": "stdin",
     "output_type": "stream",
     "text": [
      " 63 80 95 100 76 64 88\n"
     ]
    },
    {
     "name": "stdout",
     "output_type": "stream",
     "text": [
      "100: 1 person\n",
      "90: 1 person\n",
      "80: 2 person\n",
      "70: 1 person\n",
      "60: 2 person\n"
     ]
    }
   ],
   "source": [
    "# 형성평가4: 학생들의 점수를 입력받아서 입력받은 점수를 10점 단위로 구분하여 점수대별 학생 수를 출력하는 프로그램을 작성\n",
    "\n",
    "values = list(map(int, input().split(' ')))\n",
    "result = [0] * 10\n",
    "\n",
    "for v in values:\n",
    "    result[int(v/10)-1] += 1\n",
    "    \n",
    "for i in range(len(result)-1, -1 , -1):\n",
    "    if result[i] > 0 : \n",
    "        print('{}: {} person'.format((i+1)*10, result[i]))"
   ]
  },
  {
   "cell_type": "code",
   "execution_count": 26,
   "id": "614aac13-4a3e-4c8d-b444-76b1fc08e20c",
   "metadata": {},
   "outputs": [
    {
     "name": "stdin",
     "output_type": "stream",
     "text": [
      " 3 5\n"
     ]
    },
    {
     "name": "stdout",
     "output_type": "stream",
     "text": [
      "3 5 8 3 1 4 5 9 4 3\n"
     ]
    }
   ],
   "source": [
    "# 형성평가5: 10 미만의 자연수 두 개를 입력받아서 첫 번째 항과 두 번째 항을 입력받은 수로 초기화시킨 후 세번째 항부터는 전전항과 전항의 합을 구하여 그 합의 1의 자리로 채워서 차례로 10개를 출력\n",
    "x, y = list(map(int, input().split(' ')))\n",
    "result = [0] * 10\n",
    "\n",
    "result[0], result[1] = x, y\n",
    "for i in range(2, 10):\n",
    "    result[i] = (result[i-1]+result[i-2])%10\n",
    "       \n",
    "print(*result, sep=\" \")        "
   ]
  },
  {
   "cell_type": "code",
   "execution_count": 33,
   "id": "7862a380-71f3-4bae-adbd-91ba66fc2f0e",
   "metadata": {},
   "outputs": [
    {
     "name": "stdout",
     "output_type": "stream",
     "text": [
      "3 5 9 \n",
      "2 11 5 \n",
      "8 30 10 \n",
      "22 5 1 \n",
      "111\n"
     ]
    }
   ],
   "source": [
    "# 형성평가6: 4행 3열의 리스트를 생성하여 아래와 같이 초기화한 후 차례대로 출력하고 마지막 줄에 배열의 모든 값을 더한 결과를 출력하는 프로그램을 작성 \n",
    "\n",
    "arr = [[3, 5, 9], \n",
    "    [2, 11, 5], \n",
    "[8, 30, 10], \n",
    "[22, 5, 1]] \n",
    "\n",
    "total = 0\n",
    "\n",
    "for li in arr:\n",
    "    for i in li:\n",
    "        print(i, end=\" \" )\n",
    "        total+=i\n",
    "    print()\n",
    "print(total)    "
   ]
  },
  {
   "cell_type": "code",
   "execution_count": 41,
   "id": "cdca2cc8-5e5b-4c07-af63-825a59fe8567",
   "metadata": {},
   "outputs": [
    {
     "name": "stdin",
     "output_type": "stream",
     "text": [
      "1 class? 15 2 35\n",
      "2 class? 33 1 6\n",
      "3 class? 5 10 19\n",
      "4 class? 1 8 55\n"
     ]
    },
    {
     "name": "stdout",
     "output_type": "stream",
     "text": [
      "1 class: 52\n",
      "2 class: 40\n",
      "3 class: 34\n",
      "4 class: 64\n"
     ]
    }
   ],
   "source": [
    "# 형성평가7: 호석이네 학교는 6학년에 네 반이 있는데 각 반의 대표를 세 명씩 선발하여 제기차기 시합을 하였다.\n",
    "# 반별로 세 명이 제기를 찬 개수를 입력받아 각 반별로 제기를 찬 개수의 합계를 출력하는 프로그램을 작성 \n",
    "\n",
    "li = []\n",
    "total = 0\n",
    "\n",
    "for i in range(1, 5):\n",
    "    values = list(map(int, input('{} class?'.format(i)).split(' ')))\n",
    "    li.append(sum(values))\n",
    "    \n",
    "for j in range(len(li)):\n",
    "    print('{} class: {}'.format(j+1, li[j]))\n",
    "    "
   ]
  },
  {
   "cell_type": "code",
   "execution_count": 19,
   "id": "97e136d0-edc8-48b4-854b-ca6757ec52a9",
   "metadata": {},
   "outputs": [
    {
     "name": "stdout",
     "output_type": "stream",
     "text": [
      "0 2 0 2 0 \n",
      "2 0 4 0 2 \n",
      "0 6 0 6 0 \n",
      "6 0 12 0 6 \n"
     ]
    }
   ],
   "source": [
    "# 형성평가8: 2차원 리스트를 생성하여 1행의 1열과 3열, 5열을 각각 1로 나머지는 모두 0으로 초기화한 후 2행부터는 바로 전행의 왼쪽과 오른쪽의 값을 더하여 채운 후 출력하는 프로그램을 작성\n",
    "\n",
    "li = [[1, 0, 1, 0, 1], [0, 0, 0, 0, 0], [0, 0, 0, 0, 0], [0, 0, 0, 0, 0], [0, 0, 0, 0, 0]]\n",
    "\n",
    "for i in range(1, len(li)):\n",
    "    for j in range(len(li[i])):\n",
    "        if j == 0:\n",
    "            li[i][j] = li[i-1][j+1]\n",
    "        elif j == len(li[i])-1:\n",
    "            li[i][j] = li[i-1][j-1]\n",
    "        else: \n",
    "            li[i][j] = li[i-1][j-1] + li[i-1][j+1]\n",
    "        print(li[i][j], end= \" \")\n",
    "    print()    \n",
    "                         "
   ]
  },
  {
   "cell_type": "code",
   "execution_count": 50,
   "id": "54d0b708-9e46-471a-b042-4cc28a8f1f36",
   "metadata": {},
   "outputs": [
    {
     "name": "stdin",
     "output_type": "stream",
     "text": [
      "first array \n",
      " 3 6 9\n",
      " 8 5 2\n",
      "second array \n",
      " 9 8 7\n",
      " 6 5 4\n"
     ]
    },
    {
     "name": "stdout",
     "output_type": "stream",
     "text": [
      "27 48 63\n",
      "48 25 8\n"
     ]
    }
   ],
   "source": [
    "# 형성평가9: 2행 3열 리스트 두 개에 각각의 값을 입력 받은 후 두 배열의 같은 위치끼리 곱하여 새로운 리스트에 저장한 후 출력하는 프로그램을 작성\n",
    "\n",
    "li = [[], []]\n",
    "me = ['first', 'second']\n",
    "result = [[], []]\n",
    "\n",
    "for i in range(2):\n",
    "    first_of_array = list(map(int, input(f'{me[i]} array \\n').split(' ')))\n",
    "    second_of_array = list(map(int, input().split(' ')))\n",
    "    li[i] = first_of_array+second_of_array\n",
    "    \n",
    "# print(li)\n",
    "for i in range(6):\n",
    "    if i < 3:\n",
    "        result[0].append(li[0][i] * li[1][i])\n",
    "    else:\n",
    "        result[1].append(li[0][i] * li[1][i])\n",
    "        \n",
    "print(*result[0])  \n",
    "print(*result[1])    "
   ]
  },
  {
   "cell_type": "code",
   "execution_count": 65,
   "id": "aeba7690-1e37-419a-9a0e-3c73834d1fbe",
   "metadata": {},
   "outputs": [
    {
     "ename": "SyntaxError",
     "evalue": "invalid syntax (203393571.py, line 13)",
     "output_type": "error",
     "traceback": [
      "\u001b[1;36m  Cell \u001b[1;32mIn [65], line 13\u001b[1;36m\u001b[0m\n\u001b[1;33m    for j in range(2):\u001b[0m\n\u001b[1;37m                     ^\u001b[0m\n\u001b[1;31mSyntaxError\u001b[0m\u001b[1;31m:\u001b[0m invalid syntax\n"
     ]
    }
   ],
   "source": [
    "# 형성평가10: 4행 2열의 리스트를 입력받아 첫 번째 줄에는 가로평균, 두 번째 줄에는 세로평균 그리고 세 번째 줄에는 전체평균을 출력하는 프로그램을 작성\n",
    "import math\n",
    "\n",
    "li = []\n",
    "result = [[],[]]\n",
    "total = 0\n",
    "\n",
    "for i in range(4):\n",
    "    li.append(list(map(int, input().split(' ')))) \n",
    "    result[0].append(math.trunc(sum(li[i])/len(li[i])))\n",
    "\n",
    "\n"
   ]
  },
  {
   "cell_type": "code",
   "execution_count": null,
   "id": "dfaeb009-bb3b-4cef-bdbf-bacc8634ce4a",
   "metadata": {},
   "outputs": [],
   "source": []
  }
 ],
 "metadata": {
  "kernelspec": {
   "display_name": "Python 3 (ipykernel)",
   "language": "python",
   "name": "python3"
  },
  "language_info": {
   "codemirror_mode": {
    "name": "ipython",
    "version": 3
   },
   "file_extension": ".py",
   "mimetype": "text/x-python",
   "name": "python",
   "nbconvert_exporter": "python",
   "pygments_lexer": "ipython3",
   "version": "3.9.13"
  }
 },
 "nbformat": 4,
 "nbformat_minor": 5
}
