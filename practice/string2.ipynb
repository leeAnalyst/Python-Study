{
 "cells": [
  {
   "cell_type": "code",
   "execution_count": 7,
   "id": "9cc8e897-df09-49e8-9a59-2aa4ebf523eb",
   "metadata": {},
   "outputs": [
    {
     "name": "stdin",
     "output_type": "stream",
     "text": [
      " Jungbo Olympiad\n"
     ]
    },
    {
     "name": "stdout",
     "output_type": "stream",
     "text": [
      "J,u,n,g,b,o, ,O,l,y,m,p,i,a,d\n"
     ]
    }
   ],
   "source": [
    "# 자가진단1: 문자열을 하나 입력받아, 문자 사이사이에 쉼표(,)를 넣어 출력하는 프로그램을 작성하시오.\n",
    "\n",
    "print(','.join(input()))"
   ]
  },
  {
   "cell_type": "code",
   "execution_count": 10,
   "id": "4c2c1d98-e500-44ae-b8d3-6800f5d90dd9",
   "metadata": {},
   "outputs": [
    {
     "name": "stdin",
     "output_type": "stream",
     "text": [
      " Library\n"
     ]
    },
    {
     "name": "stdout",
     "output_type": "stream",
     "text": [
      "yrarbiL\n"
     ]
    }
   ],
   "source": [
    "# 자가진단2: 한 줄의 문자열을 입력 받아, 각 구성문자들을 역순으로 출력하는 프로그램을 작성하시오.\n",
    "\n",
    "print(input()[::-1])"
   ]
  },
  {
   "cell_type": "code",
   "execution_count": 35,
   "id": "236fcd2f-0533-47dd-ad36-f0361ef59ab1",
   "metadata": {},
   "outputs": [
    {
     "name": "stdin",
     "output_type": "stream",
     "text": [
      " PROGRAM\n"
     ]
    },
    {
     "name": "stdout",
     "output_type": "stream",
     "text": [
      "MPROGRA\n",
      "AMPROGR\n",
      "RAMPROG\n",
      "GRAMPRO\n",
      "OGRAMPR\n",
      "ROGRAMP\n",
      "PROGRAM\n"
     ]
    }
   ],
   "source": [
    "# 자가진단3: 문자열을 입력 받아서 문자수만큼 오른쪽으로 한 바퀴 회전하여 출력하는 프로그램을 작성하시오. 입력받는 문자열의 길이는 100자 이하이다\n",
    "\n",
    "value = input()\n",
    "\n",
    "for i in range(1, len(value)+1):\n",
    "    print(value[len(value)-i:]+value[:len(value)-i])"
   ]
  },
  {
   "cell_type": "code",
   "execution_count": 46,
   "id": "478aa9ed-fe39-44e2-bbf0-d5d2f7f2806f",
   "metadata": {},
   "outputs": [
    {
     "name": "stdin",
     "output_type": "stream",
     "text": [
      " Elbow\n",
      " Elegant\n",
      " Elephant\n"
     ]
    },
    {
     "name": "stdout",
     "output_type": "stream",
     "text": [
      "YES\n"
     ]
    }
   ],
   "source": [
    "# 자가진단4:세 문자열을 입력 받아서, 세 문자열이 사전순으로 정렬되어 있으면 'YES', 아니면 'NO'를 출력하는 프로그램을 작성하라.\n",
    "\n",
    "values = []\n",
    "\n",
    "for i in range(3):\n",
    "    values.append(input())\n",
    "\n",
    "print('YES' if values == sorted(values) else \"NO\")"
   ]
  },
  {
   "cell_type": "code",
   "execution_count": 51,
   "id": "6cefac37-79f5-4dd9-8745-9baf356ad488",
   "metadata": {},
   "outputs": [
    {
     "name": "stdin",
     "output_type": "stream",
     "text": [
      " cat dog cow\n"
     ]
    },
    {
     "name": "stdout",
     "output_type": "stream",
     "text": [
      "cat\n"
     ]
    }
   ],
   "source": [
    "# 자가진단5: 세 개의 단어를 입력받아 아스키코드 순으로 가장 작은 단어를 출력하는 프로그램을 작성하시오.\n",
    "\n",
    "values = input().split(' ')\n",
    "\n",
    "print(sorted(values)[0:1][0])"
   ]
  },
  {
   "cell_type": "code",
   "execution_count": 53,
   "id": "8742e362-9d05-4807-8de7-29dd99991e23",
   "metadata": {},
   "outputs": [
    {
     "name": "stdin",
     "output_type": "stream",
     "text": [
      " sylvas\n"
     ]
    },
    {
     "name": "stdout",
     "output_type": "stream",
     "text": [
      "False\n"
     ]
    }
   ],
   "source": [
    "# 자가진단6: 문자열 'Pennsylvania'에 입력 받은 문자열이 포함되면 True, 아니면 False를 출력하는 프로그램을 작성하시오.\n",
    "\n",
    "print(True if input() in 'Pennsylvania' else False) "
   ]
  },
  {
   "cell_type": "code",
   "execution_count": 55,
   "id": "ec2cac75-6b9b-4cf1-92f5-ab9affee437e",
   "metadata": {},
   "outputs": [
    {
     "name": "stdin",
     "output_type": "stream",
     "text": [
      " I am DELIMITER very DELIMITER smart person DELIMITER !!\n",
      " DELIMITER\n"
     ]
    },
    {
     "name": "stdout",
     "output_type": "stream",
     "text": [
      "I am\n",
      "very\n",
      "smart person\n",
      "!!\n"
     ]
    }
   ],
   "source": [
    "# 자가진단7: 두 문자열을 입력 받아, 첫 번째 문자열을 두 번째 문자열을 기준으로 분리하여 각 요소들을 여러 줄에 출력하는 프로그램을 작성하라\n",
    "\n",
    "sen = input()\n",
    "sep = input()\n",
    "\n",
    "words = sen.split(sep)\n",
    "\n",
    "for word in words:\n",
    "    print(word.strip())"
   ]
  },
  {
   "cell_type": "code",
   "execution_count": 7,
   "id": "905001d6-c21f-49ab-97ee-652df52ebafa",
   "metadata": {},
   "outputs": [
    {
     "name": "stdin",
     "output_type": "stream",
     "text": [
      " Python (space) Programing (space) jjang!!\n"
     ]
    },
    {
     "name": "stdout",
     "output_type": "stream",
     "text": [
      "jjang!!\n",
      "Programing\n",
      "Python\n"
     ]
    }
   ],
   "source": [
    "# 형성평가1: 공백을 포함한 문자열을 입력받아 문자열 '(space)'를 기준으로 분리하여 역순으로 출력하는 프로그램을 작성하시오.\n",
    "\n",
    "values = input().split('(space)')\n",
    "\n",
    "for value in values[::-1]:\n",
    "    print(value.strip())\n"
   ]
  },
  {
   "cell_type": "code",
   "execution_count": null,
   "id": "9c0d2bcd-69f0-4496-bac4-599f9e6770cf",
   "metadata": {},
   "outputs": [],
   "source": [
    "# 형성평가2: 문자열 한 개와 두 개의 정수 x, y를 입력받아 문자열을 x만큼 왼쪽으로 순환하여 출력하는 작업을 y만큼 반복하는 프로그램을 작성\n",
    "\n",
    "string, x, y = input().split(' ')\n",
    "temp = string\n",
    "\n",
    "for i in range(y):\n",
    "    \n",
    "    \n",
    "    "
   ]
  },
  {
   "cell_type": "code",
   "execution_count": 10,
   "id": "0a6c8e42-f146-499f-ab07-1362a4284fc3",
   "metadata": {},
   "outputs": [
    {
     "name": "stdin",
     "output_type": "stream",
     "text": [
      " Python C++ Java\n"
     ]
    },
    {
     "name": "stdout",
     "output_type": "stream",
     "text": [
      "C++\n",
      "Python\n"
     ]
    }
   ],
   "source": [
    "# 형성평가3: 세 개의 문자열을 입력받아 사전순으로 가장 작은 문자열과 가장 큰 문자열을 출력하는 프로그램을 작성하시오.\n",
    "\n",
    "words = input().split(' ')\n",
    "\n",
    "print(min(words), max(words), sep=\"\\n\")"
   ]
  },
  {
   "cell_type": "code",
   "execution_count": 15,
   "id": "e96597a4-93a9-487f-b80a-10e6b3989d47",
   "metadata": {},
   "outputs": [
    {
     "name": "stdin",
     "output_type": "stream",
     "text": [
      " banana apple 3\n"
     ]
    },
    {
     "name": "stdout",
     "output_type": "stream",
     "text": [
      "bananaapple\n",
      "banle\n"
     ]
    }
   ],
   "source": [
    "# 두 개의 문자열 A와 B, 한 개의 정수 n을 입력받아서 A에 B를 연결하여 새로운 A를 만들고, A에서 n개의 문자를 B의 앞부분에 복사한 후  A와 B를 출력하는 프로그램을 작성\n",
    "\n",
    "A, B, n = input().split(' ')\n",
    "\n",
    "print(A+B)\n",
    "print(A[:int(n)]+B[int(n):])"
   ]
  },
  {
   "cell_type": "code",
   "execution_count": 17,
   "id": "686eeebf-0015-449d-9ea4-d80a9b15713a",
   "metadata": {},
   "outputs": [
    {
     "name": "stdin",
     "output_type": "stream",
     "text": [
      " Jungol\n"
     ]
    },
    {
     "name": "stdout",
     "output_type": "stream",
     "text": [
      "lognuJ\n"
     ]
    },
    {
     "name": "stdin",
     "output_type": "stream",
     "text": [
      " jjang\n"
     ]
    },
    {
     "name": "stdout",
     "output_type": "stream",
     "text": [
      "gnajj\n"
     ]
    },
    {
     "name": "stdin",
     "output_type": "stream",
     "text": [
      " END\n"
     ]
    }
   ],
   "source": [
    "# 한 개의 단어를 입력받아서 거꾸로 뒤집어서 출력하는 작업을 반복하다가 \"END\"라고 입력이 되면 종료하는 프로그램을 작성하시오.(입력받는 단어의 길이는 20 이하이고, 단어의 개수는 100개 이하이다.)\n",
    "\n",
    "value = input()\n",
    "\n",
    "while value != 'END':\n",
    "    print(''.join(reversed(value)))\n",
    "    value = input()"
   ]
  },
  {
   "cell_type": "code",
   "execution_count": 31,
   "id": "7bcf75f8-4992-4054-85f8-3233767f483f",
   "metadata": {},
   "outputs": [
    {
     "name": "stdin",
     "output_type": "stream",
     "text": [
      " LsdsE43\n"
     ]
    },
    {
     "name": "stdout",
     "output_type": "stream",
     "text": [
      "X\n"
     ]
    }
   ],
   "source": [
    "# 한 개의 문자열을 입력받아 문자가 모두 대문자이면 'U', 모두 소문자이면 'L', 모두 숫자이면 'D', 어느 것에도 해당하지 않으면 'X'라고 출력하고,\n",
    "# 입력 받은 문자열을 출력하는데, 영문자는 소문자가 있으면 모두 대문자로 변환한 후 문자열을 출력하는 프로그램을 작성\n",
    "\n",
    "cnt_li = [0]*3\n",
    "\n",
    "string = input()\n",
    "\n",
    "if string.islower():\n",
    "    print(\"L\")\n",
    "elif string.isupper():\n",
    "    print(\"U\")\n",
    "elif string.isdigit():\n",
    "    print(\"D\")\n",
    "else:\n",
    "    print(\"X\")\n",
    "        "
   ]
  },
  {
   "cell_type": "code",
   "execution_count": 33,
   "id": "154f48ff-1b53-419a-9a21-938e0be731cc",
   "metadata": {},
   "outputs": [
    {
     "name": "stdin",
     "output_type": "stream",
     "text": [
      " For those who prefer coding in Python, our training pages now support submission of programs written in Python 2.0 or Python 3.0.\n",
      " Python C++\n"
     ]
    },
    {
     "name": "stdout",
     "output_type": "stream",
     "text": [
      "3\n",
      "For those who prefer coding in C++, our training pages now support submission of programs written in C++ 2.0 or C++ 3.0.\n"
     ]
    }
   ],
   "source": [
    "# 첫 번째 줄에 200자 이하의 문자열 A를 입력받고, 다음 줄에 10자 이하의 2개의 문자열 B와 C를 입력 받아 A문자열에 포함된 B문자열의 개수를 출력하고 B문자열을 모두 C문자열로 변환하여 출력하는 프로그램을 작성하시오.\n",
    "\n",
    "sen = input()\n",
    "word1, word2 = input().split(' ')\n",
    "\n",
    "print(sen.count(word1))\n",
    "print(sen.replace(word1, word2))"
   ]
  }
 ],
 "metadata": {
  "kernelspec": {
   "display_name": "Python 3 (ipykernel)",
   "language": "python",
   "name": "python3"
  },
  "language_info": {
   "codemirror_mode": {
    "name": "ipython",
    "version": 3
   },
   "file_extension": ".py",
   "mimetype": "text/x-python",
   "name": "python",
   "nbconvert_exporter": "python",
   "pygments_lexer": "ipython3",
   "version": "3.9.13"
  }
 },
 "nbformat": 4,
 "nbformat_minor": 5
}
