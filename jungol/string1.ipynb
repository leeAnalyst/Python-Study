{
 "cells": [
  {
   "cell_type": "code",
   "execution_count": 3,
   "id": "a52672e5-6bfb-4e62-bf10-95e4c5725e68",
   "metadata": {},
   "outputs": [
    {
     "name": "stdin",
     "output_type": "stream",
     "text": [
      " Lion Tiger\n"
     ]
    },
    {
     "name": "stdout",
     "output_type": "stream",
     "text": [
      "Tiger LionTiger\n"
     ]
    }
   ],
   "source": [
    "# 자가진단1: 한 줄에 두 개의 문자열을 공백을 사이에 두고 입력 받아, 뒤의 문자열을 출력하고, 공백을 출력한 후 앞의 문자열과 뒤의 문자열을 연결해서 출력하는 프로그램을 작성하시오.\n",
    "\n",
    "first, second = input().split(' ')\n",
    "\n",
    "print(second+\" \"+first+second)"
   ]
  },
  {
   "cell_type": "code",
   "execution_count": 5,
   "id": "141d3a54-1f9f-4aa5-9371-925e4df8edaa",
   "metadata": {},
   "outputs": [
    {
     "name": "stdin",
     "output_type": "stream",
     "text": [
      " Minho 18\n",
      " Chulsoo 15\n"
     ]
    },
    {
     "name": "stdout",
     "output_type": "stream",
     "text": [
      "Minho age + Chulsoo age = 33\n"
     ]
    }
   ],
   "source": [
    "# 자가진단2: 두 학생의 이름과 나이를 입력 예와 같이 입력 받은 후에, 출력 예와 같은 형식으로 두 학생의 나이의 합을 출력하는 프로그램을 작성하시오.\n",
    "# 이름에는 공백이 포함되지 않는다고 가정한다.\n",
    "\n",
    "name1, age1 = input().split(' ')\n",
    "name2, age2 = input().split(' ')\n",
    "\n",
    "print('{} age + {} age = {}'.format(name1, name2, int(age1)+int(age2)))"
   ]
  },
  {
   "cell_type": "code",
   "execution_count": 7,
   "id": "1a953248-5054-4134-be99-a1cb8f2228bc",
   "metadata": {},
   "outputs": [
    {
     "name": "stdin",
     "output_type": "stream",
     "text": [
      " I love you.          \n",
      " You love me.   \n"
     ]
    },
    {
     "name": "stdout",
     "output_type": "stream",
     "text": [
      "I love you.You love me.\n"
     ]
    }
   ],
   "source": [
    "#자가진단3: 문자열 두 개를 입력받아, 각 문자열 뒤에 보이지 않는 공백을 제거한 후, 두 문자열을 붙여서 출력하는 프로그램을 작성하라.\n",
    "\n",
    "str1 = input().rstrip()\n",
    "str2 = input().rstrip()\n",
    "\n",
    "print(str1 + str2)"
   ]
  },
  {
   "cell_type": "markdown",
   "id": "7ca29ead-e4d1-45bb-9643-ef123a27da56",
   "metadata": {},
   "source": [
    "# 공백제거\n",
    "* replace() 사용 - 모든 공백 제거\n",
    "* strip(), lstrip(), rstrip() 사용 - 양쪽, 왼쪽, 오른쪽 공백 제거\n",
    "* re.sub() 사용 - 정규표현식 사용으로 원하는대로 공백 제거"
   ]
  },
  {
   "cell_type": "code",
   "execution_count": 10,
   "id": "571078d2-d62d-4d8c-bd33-45e8a4d7f620",
   "metadata": {},
   "outputs": [
    {
     "name": "stdin",
     "output_type": "stream",
     "text": [
      " Cat meow\n",
      " Dog bow-wow\n",
      " Cow moo\n"
     ]
    },
    {
     "name": "stdout",
     "output_type": "stream",
     "text": [
      "Cat sounds meow.\n",
      "Dog sounds bow-wow.\n",
      "Cow sounds moo.\n"
     ]
    }
   ],
   "source": [
    "# 자가진단4: 동물과 동물의 울음소리를 3번 입력 받아, 출력 예시와 같이 '(동물이름) sounds (울음소리).' 형식으로 서식 문자를 이용하여 출력하는 프로그램을 작성하라.\n",
    "\n",
    "names = []\n",
    "sounds = []\n",
    "\n",
    "for i in range(3):\n",
    "    name, sound = input().split(' ')\n",
    "    names.append(name)\n",
    "    sounds.append(sound)\n",
    "\n",
    "print('%s sounds %s.' % (names[0], sounds[0]))\n",
    "print('%s sounds %s.' % (names[1], sounds[1]))\n",
    "print('%s sounds %s.' % (names[2], sounds[2]))"
   ]
  },
  {
   "cell_type": "code",
   "execution_count": 3,
   "id": "d9cb6123-be81-44df-aa7c-ce7d346744b0",
   "metadata": {},
   "outputs": [
    {
     "name": "stdin",
     "output_type": "stream",
     "text": [
      " lee\n",
      " 24\n",
      " 75.45233\n"
     ]
    },
    {
     "name": "stdout",
     "output_type": "stream",
     "text": [
      "I am lee(IDNo. 24). I got 75.452330 in my midterm exam.\n"
     ]
    }
   ],
   "source": [
    "# 이름, 번호, 중간고사 평균을 입력받아 다음 서식에 맞게 출력하는 프로그램을 작성하시오.\n",
    "# 'I am □(IDNo. □). I got □ in my midterm exam.'\n",
    "\n",
    "name, idno, score = input(), input(), input()\n",
    "\n",
    "print('I am %s(IDNo. %d). I got %.6f in my midterm exam.' % (name, int(idno), float(score)))"
   ]
  },
  {
   "cell_type": "code",
   "execution_count": 4,
   "id": "9ee15cb3-659e-4bda-aadf-b64fa5285b5e",
   "metadata": {},
   "outputs": [
    {
     "name": "stdout",
     "output_type": "stream",
     "text": [
      "      item     count     price      rate\n",
      "       pen        20       100      50.5\n",
      "      note         5        95      35.3\n",
      "    eraser       110        97      14.2\n"
     ]
    }
   ],
   "source": [
    "# 각 요소들은 10칸씩 공간을 확보하여 오른쪽으로 정렬하여 출력\n",
    "\n",
    "info = [\n",
    "        ['item', 'count', 'price', 'rate'], \n",
    "       ['pen', 20, 100, 50.5],\n",
    "        ['note', 5, 95, 35.3],\n",
    "        ['eraser', 110, 97, 14.2]\n",
    "       ]\n",
    "\n",
    "for i in range(len(info)):\n",
    "    for j in range(len(info[i])):\n",
    "        print(str(info[i][j]).rjust(10, ' '), end=\"\")\n",
    "    print()"
   ]
  },
  {
   "cell_type": "code",
   "execution_count": 6,
   "id": "c62df13c-bf4c-40df-b080-6220ca12fe38",
   "metadata": {},
   "outputs": [
    {
     "name": "stdin",
     "output_type": "stream",
     "text": [
      " beauty and the beast\n"
     ]
    },
    {
     "name": "stdout",
     "output_type": "stream",
     "text": [
      "beast the and beauty\n"
     ]
    }
   ],
   "source": [
    "# 네 단어로 된 문장을 한 줄에 입력받아, 순서를 거꾸로 출력하는 프로그램을 작성하라.\n",
    "\n",
    "words = input().split(' ')\n",
    "\n",
    "print(' '.join(reversed(words)))"
   ]
  },
  {
   "cell_type": "code",
   "execution_count": 8,
   "id": "140cd403-5b3a-4b21-b3c8-e3dc7cc8bbf2",
   "metadata": {},
   "outputs": [
    {
     "name": "stdin",
     "output_type": "stream",
     "text": [
      " 2 3 5\n"
     ]
    },
    {
     "name": "stdout",
     "output_type": "stream",
     "text": [
      "12.5\n"
     ]
    }
   ],
   "source": [
    "# 사다리꼴의 밑변, 윗변, 높이의 길이를 순서대로 한 줄에 입력받아, 사다리꼴의 넓이를 출력하는 프로그램을 작성\n",
    "\n",
    "n1, n2, n3 = input().split(' ')\n",
    "\n",
    "print(((int(n1) + int(n2)) * int(n3)) / 2) "
   ]
  },
  {
   "cell_type": "code",
   "execution_count": 15,
   "id": "b75e3e57-0313-4170-8bb1-42fe5c212d25",
   "metadata": {},
   "outputs": [
    {
     "name": "stdin",
     "output_type": "stream",
     "text": [
      " Queen\n",
      " Bohemian Rhapsody\n",
      " Beatles\n",
      " Let it be\n"
     ]
    },
    {
     "name": "stdout",
     "output_type": "stream",
     "text": [
      "Queen: Bohemian Rhapsody\n",
      "Beatles: Let it be\n"
     ]
    }
   ],
   "source": [
    "# 네 문자열을 입력 받아 다음 형식으로 출력하는 프로그램을 작성\n",
    "\n",
    "values = []\n",
    "\n",
    "for i in range(4):\n",
    "    values.append(input())\n",
    "\n",
    "for i in range(0, len(values), 2):\n",
    "        print('{}: {}'.format(values[i], values[i+1]))"
   ]
  },
  {
   "cell_type": "code",
   "execution_count": 20,
   "id": "0970f9ca-68a0-4790-8221-428ed4c5a1c9",
   "metadata": {},
   "outputs": [
    {
     "name": "stdin",
     "output_type": "stream",
     "text": [
      "LB?  65.73\n"
     ]
    },
    {
     "name": "stdout",
     "output_type": "stream",
     "text": [
      "65.7LB is 29.6KG.\n"
     ]
    }
   ],
   "source": [
    "# LB(파운드)단위로 입력된 몸무게를 KG(킬로그램)단위로 바꾸는 프로그램을 작성\n",
    "# 모든 실수(소수)는 소수점 두 번째 자리에서 반올림하여 소수점  한자리까지 출력\n",
    "\n",
    "value = input('LB? ')\n",
    "\n",
    "print('%.1fLB is %.1fKG.' % (float(value), (float(value) * 0.45)))"
   ]
  },
  {
   "cell_type": "code",
   "execution_count": 23,
   "id": "02de19f3-1a92-45aa-bfe3-7cd57e39a3d8",
   "metadata": {},
   "outputs": [
    {
     "name": "stdin",
     "output_type": "stream",
     "text": [
      " 창호 170 68.47\n"
     ]
    },
    {
     "name": "stdout",
     "output_type": "stream",
     "text": [
      "창호의 키는 170cm이며, 몸무게는 68.5kg입니다.\n"
     ]
    }
   ],
   "source": [
    "# 이름과 키, 몸무게를 입력 받아 서식 문자를 사용하여 다음과 같이 출력하는 프로그램을 작성\n",
    "\n",
    "name, height, weight = input().split(' ')\n",
    "\n",
    "print('%s의 키는 %dcm이며, 몸무게는 %.1fkg입니다.' % (name, int(height), float(weight)))"
   ]
  }
 ],
 "metadata": {
  "kernelspec": {
   "display_name": "Python 3 (ipykernel)",
   "language": "python",
   "name": "python3"
  },
  "language_info": {
   "codemirror_mode": {
    "name": "ipython",
    "version": 3
   },
   "file_extension": ".py",
   "mimetype": "text/x-python",
   "name": "python",
   "nbconvert_exporter": "python",
   "pygments_lexer": "ipython3",
   "version": "3.9.13"
  }
 },
 "nbformat": 4,
 "nbformat_minor": 5
}
