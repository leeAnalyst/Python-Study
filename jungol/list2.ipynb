{
 "cells": [
  {
   "cell_type": "code",
   "execution_count": 2,
   "id": "9488016c-ce89-4911-afba-f52f42dd765b",
   "metadata": {},
   "outputs": [
    {
     "name": "stdin",
     "output_type": "stream",
     "text": [
      " 1 3\n"
     ]
    },
    {
     "name": "stdout",
     "output_type": "stream",
     "text": [
      "168.7\n"
     ]
    }
   ],
   "source": [
    "# 자가진단1: 1반부터 6반까지의 평균 점수를 저장한 후, 두 반을 입력 받아 두 반 평균 점수의 합을 출력하는 프로그램을 작성 \n",
    "# 반 별 평균 점수는 초기 값으로 1반부터 차례로 85.6, 79.5, 83.1, 80.0, 78.2, 75.0 으로 초기화하고 출력은 소수 첫째 자리까지\n",
    "\n",
    "scores = [85.6, 79.5, 83.1, 80.0, 78.2, 75.0]\n",
    "\n",
    "input_values = input().split(' ')\n",
    "\n",
    "print('%.1f' % (scores[int(input_values[0])-1]+scores[int(input_values[1])-1]))"
   ]
  },
  {
   "cell_type": "code",
   "execution_count": 3,
   "id": "6a2fd528-3690-4e9f-ad03-ea5fb9c18b65",
   "metadata": {},
   "outputs": [
    {
     "name": "stdin",
     "output_type": "stream",
     "text": [
      " dog\n",
      " cat\n",
      " chick\n",
      " calf\n",
      " goat\n"
     ]
    },
    {
     "name": "stdout",
     "output_type": "stream",
     "text": [
      "goat\n",
      "calf\n",
      "chick\n",
      "cat\n",
      "dog\n"
     ]
    }
   ],
   "source": [
    "# 자가진단2: 5개의 단어를 입력받아 모든 단어를 입력받은 역순으로 출력하는 프로그램을 작성\n",
    "\n",
    "values = []\n",
    "\n",
    "for i in range(5):\n",
    "    values.append(input())\n",
    "\n",
    "print('\\n'.join(reversed(values)))"
   ]
  },
  {
   "cell_type": "code",
   "execution_count": 4,
   "id": "7aa71b60-6cc1-4c52-bb9f-bade0d1b3f8c",
   "metadata": {},
   "outputs": [
    {
     "name": "stdin",
     "output_type": "stream",
     "text": [
      " champion\n",
      " tel\n",
      " pencil\n",
      " olympiad\n",
      " class\n",
      " information\n",
      " jungol\n",
      " lesson\n",
      " book\n",
      " lion\n",
      " l\n"
     ]
    },
    {
     "name": "stdout",
     "output_type": "stream",
     "text": [
      "['tel', 'pencil', 'jungol']\n"
     ]
    }
   ],
   "source": [
    "# 자가진단3: 20개 이하의 문자로 이루어진 10개의 단어와 한 개의 문자를 입력받아서 마지막으로 입력받은 문자로 끝나는 단어를 모두 출력\n",
    "\n",
    "words = []\n",
    "\n",
    "for i in range(10):\n",
    "    words.append(input())\n",
    "\n",
    "x = input()\n",
    "\n",
    "print('\\n'.join(list(filter(lambda word : True if word[-1] == x else False,words))))"
   ]
  },
  {
   "cell_type": "code",
   "execution_count": 1,
   "id": "8b9515af-21f3-4183-978e-ae8c8e114278",
   "metadata": {},
   "outputs": [
    {
     "name": "stdin",
     "output_type": "stream",
     "text": [
      " 5 10 8 55 6 31 12 24 61 2\n"
     ]
    },
    {
     "name": "stdout",
     "output_type": "stream",
     "text": [
      "2\n"
     ]
    }
   ],
   "source": [
    "# 자가진단4: 10개의 정수를 입력받아 그 중 가장 작은 수를 출력하는 프로그램을 작성\n",
    "\n",
    "print(min(list(map(int, input().split(' ')))))"
   ]
  },
  {
   "cell_type": "code",
   "execution_count": 13,
   "id": "37af7d01-ef8b-4646-a190-afe05728c2ab",
   "metadata": {},
   "outputs": [
    {
     "name": "stdin",
     "output_type": "stream",
     "text": [
      " 88 23 59 15 43 1 9 13 5 48\n"
     ]
    },
    {
     "name": "stdout",
     "output_type": "stream",
     "text": [
      "88 100\n"
     ]
    }
   ],
   "source": [
    "# 자가진단5: 10개의 정수를 입력받아 100 미만의 수 중 가장 큰 수와 100 이상의 수 중 가장 작은 수를 출력\n",
    "# 입력되는 정수의 범위는 1 이상 10000 미만이다. 각각의 경우, 만약 해당하는 수가 없을 때에는 100을 출력한다.\n",
    "\n",
    "values = list(map(int, input().split(' ')))\n",
    "\n",
    "max_value = max(list(filter(lambda n : True if n < 100 else False, values)), default = 100)\n",
    "min_value = min(list(filter(lambda n : True if n >= 100 else False, values)), default = 100)\n",
    "\n",
    "\n",
    "print(max_value, min_value)"
   ]
  },
  {
   "cell_type": "code",
   "execution_count": 29,
   "id": "c15786bb-7f78-4430-8fda-74e906b3bbd0",
   "metadata": {},
   "outputs": [
    {
     "name": "stdin",
     "output_type": "stream",
     "text": [
      " 95 100 88 65 76 89 58 93 77 99\n"
     ]
    },
    {
     "name": "stdout",
     "output_type": "stream",
     "text": [
      "446\n",
      "78.8\n"
     ]
    }
   ],
   "source": [
    "# 자가진단6: 10개의 정수 리스트를 입력받아 짝수 번째 입력된 값의 합과 홀수 번째 입력된 값의 평균을 출력하는 프로그램을 작성하시오. 평균은 반올림하여 소수 첫째자리까지 출력\n",
    "\n",
    "nums = list(map(int, input().split(' ')))\n",
    "\n",
    "even_li = [ nums[i] for i in range(len(nums)) if (i+1) % 2 == 0]\n",
    "odd_li = [num for num in nums if num not in even_li]\n",
    "\n",
    "print(sum(even_li))\n",
    "print('%.1f' % (sum(odd_li)/len(odd_li)))\n"
   ]
  },
  {
   "cell_type": "code",
   "execution_count": 37,
   "id": "b662ca57-7af1-473f-b1d2-c7ac856e3d94",
   "metadata": {},
   "outputs": [
    {
     "name": "stdin",
     "output_type": "stream",
     "text": [
      " 95 100 88 65 76 89 58 93 77 99\n"
     ]
    },
    {
     "name": "stdout",
     "output_type": "stream",
     "text": [
      "100 99 95 93 89 88 77 76 65 58\n"
     ]
    }
   ],
   "source": [
    "# 자가진단7: 10개의 정수를 입력받아 내림차순으로 정렬하여 출력\n",
    "nums = list(map(int, input().split(' ')))\n",
    "\n",
    "print(' '.join(list(map(str, sorted(nums, reverse=True)))))"
   ]
  },
  {
   "cell_type": "code",
   "execution_count": null,
   "id": "1b97fca0-8ba0-4aad-9233-79878b1c7ee3",
   "metadata": {},
   "outputs": [
    {
     "name": "stdin",
     "output_type": "stream",
     "text": [
      " Jungol\n",
      " Korea\n"
     ]
    }
   ],
   "source": [
    "# 자가진단8: 20자 미만인 5개의 문자열을 입력받아 문자열 크기(아스키코드) 역순으로 정렬하여 출력하는 프로그램을 작성\n",
    "i = 0\n",
    "result = []\n",
    "string = ''\n",
    "\n",
    "while i < 5:\n",
    "    string = input()\n",
    "    if len(string) < 20: \n",
    "        result.append(string)\n",
    "        i+=1\n",
    "\n",
    "print(sort(result,reverse=True), sep = \"\\n\")"
   ]
  },
  {
   "cell_type": "code",
   "execution_count": 6,
   "id": "7011faea-7aaf-4018-966a-dc83dfec02f4",
   "metadata": {},
   "outputs": [
    {
     "name": "stdin",
     "output_type": "stream",
     "text": [
      " 10\n",
      " 20\n",
      " -1\n"
     ]
    },
    {
     "name": "stdout",
     "output_type": "stream",
     "text": [
      "10 20\n"
     ]
    }
   ],
   "source": [
    "# 형성평가1: 최대 100개의 정수를 차례로 입력받다가 -1이 입력되면 입력을 중단하고 -1을 제외한 마지막 세 개의 정수를 출력\n",
    "\n",
    "result = []\n",
    "\n",
    "while len(result) < 100:\n",
    "    value = int(input())\n",
    "    if value== -1:\n",
    "        break\n",
    "    result.append(value)\n",
    "    \n",
    "\n",
    "print(' '.join(list(map(str, result[-3:]))))"
   ]
  },
  {
   "cell_type": "code",
   "execution_count": 9,
   "id": "873add2c-8ee0-4a05-842e-661967a03487",
   "metadata": {},
   "outputs": [
    {
     "name": "stdin",
     "output_type": "stream",
     "text": [
      " 23.2 39.6 66.4 50.0 45.6 48.0\n"
     ]
    },
    {
     "name": "stdout",
     "output_type": "stream",
     "text": [
      "45.5\n"
     ]
    }
   ],
   "source": [
    "# 형성평가2: 6명의 몸무게를 입력받아 평균을 출력하는 프로그램을 작성\n",
    "\n",
    "values = list(map(float, input().split(' ')))\n",
    "\n",
    "print('%.1f' % (sum(values)/len(values)))"
   ]
  },
  {
   "cell_type": "code",
   "execution_count": 12,
   "id": "7b1d72d7-b508-4194-9f55-af825440828c",
   "metadata": {},
   "outputs": [
    {
     "name": "stdin",
     "output_type": "stream",
     "text": [
      " B\n"
     ]
    },
    {
     "name": "stdout",
     "output_type": "stream",
     "text": [
      "none\n"
     ]
    }
   ],
   "source": [
    "# 형성평가3: 6개의 문자리스트를 ['J', 'U', 'N', 'G', 'O', 'L']이라고 초기화 한 후, 문자 한 개를 입력받아 리스트에서의 위치를 출력하는 프로그램을 작성\n",
    "\n",
    "values = ['J', 'U', 'N', 'G', 'O', 'L']\n",
    "\n",
    "input_value = input()\n",
    "\n",
    "print(values.index(input_value) if input_value in values else 'none')"
   ]
  },
  {
   "cell_type": "code",
   "execution_count": 15,
   "id": "c1285685-bee1-4059-99ee-901ea7228877",
   "metadata": {},
   "outputs": [
    {
     "name": "stdin",
     "output_type": "stream",
     "text": [
      " 45 19 123 58 10 -55 16 -1\n"
     ]
    },
    {
     "name": "stdout",
     "output_type": "stream",
     "text": [
      "max:  123 \n",
      " min: -55\n"
     ]
    }
   ],
   "source": [
    "# 형성평가4: 공백으로 구분하여 입력된 세자리 이하의 정수를 리스트로 받아서 입력된 최대값과 최소값을 출력\n",
    "\n",
    "values = list(map(int, input().split(' ')))\n",
    "\n",
    "print('max: ', max(values),'\\n', 'min:', min(values))"
   ]
  },
  {
   "cell_type": "code",
   "execution_count": 21,
   "id": "112d4fed-c797-4f64-bb9a-c42c1bce9919",
   "metadata": {},
   "outputs": [
    {
     "name": "stdin",
     "output_type": "stream",
     "text": [
      " 35 10 23 100 64 51 5\n"
     ]
    },
    {
     "name": "stdout",
     "output_type": "stream",
     "text": [
      "Multiples of 5:  4\n",
      "sum:  150\n",
      "avg: 37.5\n"
     ]
    }
   ],
   "source": [
    "# 형성평가5: 100 이하의 정수를 한 줄로 입력받아 입력된 정수 중 5의 배수의 개수와 합계, 평균을 출력하는 프로그램을 작성\n",
    "\n",
    "values = list(map(int, input().split(' ')))\n",
    "multiples_5 = [value for value in values if value % 5 == 0]\n",
    "\n",
    "\n",
    "print('Multiples of 5: ', len(multiples_5))\n",
    "print('sum: ', sum(multiples_5))\n",
    "print('avg: %.1f' % (sum(multiples_5) / len(multiples_5)))\n"
   ]
  },
  {
   "cell_type": "code",
   "execution_count": 30,
   "id": "ce2bffad-7e1e-4709-8996-1f071aa93c20",
   "metadata": {},
   "outputs": [
    {
     "name": "stdin",
     "output_type": "stream",
     "text": [
      " 8 10 5 15 100\n"
     ]
    },
    {
     "name": "stdout",
     "output_type": "stream",
     "text": [
      "5\n",
      "4 5 10 30 50\n"
     ]
    }
   ],
   "source": [
    "# 형성평가6: 100개 이하의 정수를 한 줄로 입력받아 입력 받은 개수를 출력한 후, 입력받은 정수를 차례로 출력하되 그 수가 홀수이면 2배한 값을, 짝수인 경우에는 2로 나눈 몫을 출력하는 프로그램을 작성\n",
    "\n",
    "\n",
    "nums = list(map(int, input().split(' ')))\n",
    "\n",
    "print(len(nums))\n",
    "print(' '.join(list(map(lambda n : str(int(n*2)) if n%2 else str(int(n/2)), nums))))"
   ]
  },
  {
   "cell_type": "code",
   "execution_count": 43,
   "id": "429cbfc3-f862-4ae0-8537-1bff7777dd04",
   "metadata": {},
   "outputs": [
    {
     "name": "stdin",
     "output_type": "stream",
     "text": [
      " 5\n",
      " 35 10 35 100 64\n"
     ]
    },
    {
     "name": "stdout",
     "output_type": "stream",
     "text": [
      "100\n",
      "64\n",
      "35\n",
      "35\n",
      "10\n"
     ]
    }
   ],
   "source": [
    "# 형성평가7: 20 이하의 정수 n을 입력받고, n명의 점수를 입력받아 높은 점수부터 차례로 출력\n",
    "\n",
    "n = int(input())\n",
    "\n",
    "if n <= 20:\n",
    "    nums = list(map(int, input().split(' ')))\n",
    "    \n",
    "print(*sorted(nums, reverse=True), sep=\"\\n\")\n",
    "    "
   ]
  },
  {
   "cell_type": "code",
   "execution_count": 54,
   "id": "bf9500c2-24f0-484e-ac04-793129e20b42",
   "metadata": {},
   "outputs": [
    {
     "name": "stdin",
     "output_type": "stream",
     "text": [
      " d\n"
     ]
    },
    {
     "name": "stdout",
     "output_type": "stream",
     "text": [
      "\n",
      "0\n"
     ]
    }
   ],
   "source": [
    "# 형성평가8: \"flower\", \"rose\", \"lily\", \"daffodil\", \"azalea\" 5개의 단어를 초기화한 후 한 개의 문자를 입력받아서 입력받은 문자가 두 번째나 세 번째에 포함된 단어를 모두 출력하고 마지막 줄에 출력한 단어의 개수를 출력하는 프로그램을 작성\n",
    "\n",
    "words = [\"flower\", \"rose\", \"lily\", \"daffodil\", \"azalea\"]\n",
    "\n",
    "keyword = input()\n",
    "\n",
    "result = list(filter(lambda word: True if word[1] == keyword or word[2] == keyword else False, words))\n",
    "\n",
    "print(*result, sep=\"\\n\")\n",
    "print(len(result))"
   ]
  },
  {
   "cell_type": "code",
   "execution_count": 3,
   "id": "6a09ce93-9373-4847-9200-6034269897ca",
   "metadata": {},
   "outputs": [
    {
     "name": "stdin",
     "output_type": "stream",
     "text": [
      " moni\n",
      " key\n",
      " semo\n",
      " 0\n"
     ]
    },
    {
     "name": "stdout",
     "output_type": "stream",
     "text": [
      "3\n",
      "moni\n",
      "semo\n"
     ]
    }
   ],
   "source": [
    "# 형성평가9: 단어를 입력받다가 \"0\"을 입력받으면 입력을 종료하고 그 때까지 입력받은 단어의 개수와 \"mo\"가 들어간 단어를 모두 출력하는 프로그램을 작성\n",
    "\n",
    "values = []\n",
    "word = input()\n",
    "\n",
    "while word != '0':\n",
    "    values.append(word)\n",
    "    word = input()\n",
    "\n",
    "print(len(values))\n",
    "print(*[v for v in values if \"mo\" in v], sep=\"\\n\")"
   ]
  },
  {
   "cell_type": "code",
   "execution_count": 4,
   "id": "899a5e8b-0f9c-44e8-8b9d-92eb6476f57a",
   "metadata": {},
   "outputs": [
    {
     "name": "stdin",
     "output_type": "stream",
     "text": [
      " banana\n",
      " apple\n",
      " tomato\n",
      " melon\n",
      " pear\n",
      " n\n",
      " to\n"
     ]
    },
    {
     "name": "stdout",
     "output_type": "stream",
     "text": [
      "banana\n",
      "tomato\n",
      "melon\n"
     ]
    }
   ],
   "source": [
    "# 형성평가10: 5개의 단어를 입력받은 후 문자와 문자열을 한 개씩 입력받아 나중에 입력받은 문자나 문자열이 포함된 단어를 모두 출력\n",
    "\n",
    "values = []\n",
    "\n",
    "for i in range(5):\n",
    "    values.append(input())\n",
    "    \n",
    "c = input()\n",
    "string = input()\n",
    "\n",
    "print (*[v for v in values if c in v or string in v], sep=\"\\n\")"
   ]
  }
 ],
 "metadata": {
  "kernelspec": {
   "display_name": "Python 3 (ipykernel)",
   "language": "python",
   "name": "python3"
  },
  "language_info": {
   "codemirror_mode": {
    "name": "ipython",
    "version": 3
   },
   "file_extension": ".py",
   "mimetype": "text/x-python",
   "name": "python",
   "nbconvert_exporter": "python",
   "pygments_lexer": "ipython3",
   "version": "3.9.13"
  }
 },
 "nbformat": 4,
 "nbformat_minor": 5
}
