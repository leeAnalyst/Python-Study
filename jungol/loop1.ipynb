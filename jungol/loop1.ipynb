{
 "cells": [
  {
   "cell_type": "code",
   "execution_count": 3,
   "id": "8ce5364d-3516-47e9-aec5-0ff70aa78a73",
   "metadata": {},
   "outputs": [
    {
     "name": "stdin",
     "output_type": "stream",
     "text": [
      " 55\n",
      " 100\n",
      " 48\n",
      " 36\n",
      " 0\n",
      " 101\n"
     ]
    },
    {
     "name": "stdout",
     "output_type": "stream",
     "text": [
      "sum: 239 \n",
      "avg: 47.8\n"
     ]
    }
   ],
   "source": [
    "# 형성평가3: 0 부터 100 까지의 점수를 계속 입력 받다가 범위를 벗어나는 수가 입력되면 그 이전까지 입력된 자료의 합계와 평균을 출력하는 프로그램을 작성\n",
    "\n",
    "li = []\n",
    "i = int(input())\n",
    "\n",
    "while i <= 100:\n",
    "    li.append(i)\n",
    "    i = int(input())\n",
    "\n",
    "print(\"sum: {} \\navg: {}\".format(sum(li), sum(li)/len(li)))\n",
    "    \n"
   ]
  },
  {
   "cell_type": "code",
   "execution_count": 2,
   "id": "fd302ee9-653f-478c-93cc-08b7e8df5c4d",
   "metadata": {},
   "outputs": [
    {
     "name": "stdin",
     "output_type": "stream",
     "text": [
      " 1\n",
      " 2\n",
      " 3\n",
      " 4\n",
      " 5\n",
      " 6\n",
      " 7\n",
      " 8\n",
      " 9\n",
      " 10\n",
      " 0\n"
     ]
    },
    {
     "name": "stdout",
     "output_type": "stream",
     "text": [
      "5\n"
     ]
    }
   ],
   "source": [
    "# 형성평가4: 0 이 입력될 때까지 정수를 계속 입력 받아 3의 배수와 5의 배수를 제외한 수들의 개수를 출력하는 프로그램을 작성하시오.​\n",
    "\n",
    "cnt = 0\n",
    "i = int(input())\n",
    "\n",
    "while i !=0 :\n",
    "    if i % 3 and i % 5:\n",
    "        cnt += 1\n",
    "    i = int(input())\n",
    "    \n",
    "print(cnt)        "
   ]
  },
  {
   "cell_type": "code",
   "execution_count": 4,
   "id": "6abf32a5-ffd9-49b4-aedb-b1fadf42140b",
   "metadata": {},
   "outputs": [
    {
     "name": "stdin",
     "output_type": "stream",
     "text": [
      "Width =  11\n",
      "Height = 5\n"
     ]
    },
    {
     "name": "stdout",
     "output_type": "stream",
     "text": [
      "Triangle Area = 27.5\n"
     ]
    },
    {
     "name": "stdin",
     "output_type": "stream",
     "text": [
      "Continue?  y\n",
      "Width =  10\n",
      "Height = 10\n"
     ]
    },
    {
     "name": "stdout",
     "output_type": "stream",
     "text": [
      "Triangle Area = 50.0\n"
     ]
    },
    {
     "name": "stdin",
     "output_type": "stream",
     "text": [
      "Continue?  Y\n",
      "Width =  10\n",
      "Height = 10\n"
     ]
    },
    {
     "name": "stdout",
     "output_type": "stream",
     "text": [
      "Triangle Area = 50.0\n"
     ]
    },
    {
     "name": "stdin",
     "output_type": "stream",
     "text": [
      "Continue?  n\n"
     ]
    }
   ],
   "source": [
    "# 형성평가5: 삼각형의 밑변의 길이와 높이를 입력 받아 넓이를 출력하고, \"Continue?\"에서 'Y'나 'y'를 입력하면 작업을 반복하고 다른 문자를 입력하면 종료하는 프로그램을 작성\n",
    "\n",
    "status = 'Y'\n",
    "\n",
    "while status.upper() == 'Y':\n",
    "    w = int(input(\"Width = \"))\n",
    "    h = int(input(\"Height =\"))\n",
    "    print(\"Triangle Area = %.1f\" % (w*h/2))\n",
    "    status = input(\"Continue? \")"
   ]
  }
 ],
 "metadata": {
  "kernelspec": {
   "display_name": "Python 3 (ipykernel)",
   "language": "python",
   "name": "python3"
  },
  "language_info": {
   "codemirror_mode": {
    "name": "ipython",
    "version": 3
   },
   "file_extension": ".py",
   "mimetype": "text/x-python",
   "name": "python",
   "nbconvert_exporter": "python",
   "pygments_lexer": "ipython3",
   "version": "3.9.13"
  }
 },
 "nbformat": 4,
 "nbformat_minor": 5
}
